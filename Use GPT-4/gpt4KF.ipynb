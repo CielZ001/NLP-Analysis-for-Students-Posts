{
  "cells": [
    {
      "cell_type": "code",
      "execution_count": 14,
      "metadata": {
        "id": "sy-58bmmvW7W"
      },
      "outputs": [],
      "source": [
        "# pip install openai"
      ]
    },
    {
      "cell_type": "code",
      "execution_count": 7,
      "metadata": {
        "id": "aeAn_ej4hTTE"
      },
      "outputs": [],
      "source": [
        "# import pprint"
      ]
    },
    {
      "cell_type": "code",
      "execution_count": 2,
      "metadata": {
        "id": "dhwrmztQvhPk"
      },
      "outputs": [],
      "source": [
        "import openai\n",
        "import os\n",
        "\n",
        "openai.organization = \"org-yourorganizationidentifier\"\n",
        "openai.api_key = \"sk-yourkey\""
      ]
    },
    {
      "cell_type": "code",
      "execution_count": 10,
      "metadata": {
        "id": "UZE3Kx2Vh5Hh"
      },
      "outputs": [],
      "source": [
        "system_initiat = \"You are GPT-4, answer my questions as if you were an expert in the field.\"\n",
        "prompt = \"Write a blog on how to use GPT-4 with python in a jupyter notebook\"\n",
        "GPT4 = 'gpt-4-0314'"
      ]
    },
    {
      "cell_type": "code",
      "execution_count": null,
      "metadata": {
        "id": "zp86ACf2qEri"
      },
      "outputs": [],
      "source": [
        "# Function that calls the GPT-4 API\n",
        "def ask_GPT4(system_intel, prompt): \n",
        "    result = openai.ChatCompletion.create(model=GPT4,\n",
        "                                 messages=[{\"role\": \"system\", \"content\": system_intel},\n",
        "                                           {\"role\": \"user\", \"content\": prompt}])\n",
        "    return result\n",
        "\n",
        "# Call the function above\n",
        "ask_GPT4(system_initiat, prompt)"
      ]
    },
    {
      "cell_type": "code",
      "execution_count": 13,
      "metadata": {
        "id": "sfuQzKtOhMPI"
      },
      "outputs": [],
      "source": [
        "# List models\n",
        "\n",
        "# openai.Model.list()\n",
        "\n",
        "# def list_all_models():\n",
        "#     model_list = openai.Model.list()['data']\n",
        "#     model_ids = [x['id'] for x in model_list]\n",
        "#     model_ids.sort()\n",
        "#     pprint.pprint(model_ids)\n",
        "\n",
        "# if __name__ == '__main__':\n",
        "#     list_all_models()"
      ]
    }
  ],
  "metadata": {
    "colab": {
      "provenance": []
    },
    "kernelspec": {
      "display_name": "Python 3",
      "name": "python3"
    },
    "language_info": {
      "name": "python"
    }
  },
  "nbformat": 4,
  "nbformat_minor": 0
}
